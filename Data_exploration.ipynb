{
 "cells": [
  {
   "cell_type": "markdown",
   "metadata": {},
   "source": [
    "# Predictive Models for Acute Oral Systemic Toxicity\n",
    "\n",
    "The objective of this project is to leverage the combined expertise of the international modeling community to develop predictive models for acute oral toxicity based on regulatory needs submitted by ICCVAM agencies. Models developed for the project will be evaluated, and those meeting defined criteria will be used to generate consensus toxicity predictions of acute oral toxicity endpoints of interest to regulatory agencies. \n",
    "\n",
    "Based on the range of regulatory criteria and decision contexts used by ICCVAM agencies, a total of five different modeling endpoints have been identified. Participants can build models to predict one or more of the following endpoints:\n",
    "\n",
    "+ Very toxic (<50\\ mg/kg vs. all others)\n",
    "+ Nontoxic (>2000\\ mg/kg vs. all others)\n",
    "+ LD50 point estimates\n",
    "+ Hazard categories under the EPA classification system (n=4) \n",
    "+ Hazard categories under the GHS classification system (n=5; Category 5 and Not Classified combined into a single category)\n",
    "\n",
    "## Data Exploration"
   ]
  },
  {
   "cell_type": "code",
   "execution_count": 1,
   "metadata": {
    "collapsed": true
   },
   "outputs": [],
   "source": [
    "%matplotlib inline\n",
    "import numpy as np\n",
    "import pandas as pd\n",
    "import matplotlib.pyplot as plt\n",
    "import seaborn as sns"
   ]
  },
  {
   "cell_type": "code",
   "execution_count": 2,
   "metadata": {
    "collapsed": true
   },
   "outputs": [],
   "source": [
    "df = pd.read_csv('data/training_set.csv', sep='\\t')"
   ]
  },
  {
   "cell_type": "code",
   "execution_count": 5,
   "metadata": {},
   "outputs": [
    {
     "data": {
      "text/html": [
       "<div>\n",
       "<style>\n",
       "    .dataframe thead tr:only-child th {\n",
       "        text-align: right;\n",
       "    }\n",
       "\n",
       "    .dataframe thead th {\n",
       "        text-align: left;\n",
       "    }\n",
       "\n",
       "    .dataframe tbody tr th {\n",
       "        vertical-align: top;\n",
       "    }\n",
       "</style>\n",
       "<table border=\"1\" class=\"dataframe\">\n",
       "  <thead>\n",
       "    <tr style=\"text-align: right;\">\n",
       "      <th></th>\n",
       "      <th>CASRN</th>\n",
       "      <th>DTXSID</th>\n",
       "      <th>Chemical_Name</th>\n",
       "      <th>Structure_Source</th>\n",
       "      <th>Canonical_QSARr</th>\n",
       "      <th>Salt_Solvent</th>\n",
       "      <th>InChI_Code_QSARr</th>\n",
       "      <th>InChI_Key_QSARr</th>\n",
       "      <th>LD50_mgkg</th>\n",
       "      <th>EPA_category</th>\n",
       "      <th>GHS_category</th>\n",
       "      <th>very_toxic</th>\n",
       "      <th>nontoxic</th>\n",
       "    </tr>\n",
       "  </thead>\n",
       "  <tbody>\n",
       "    <tr>\n",
       "      <th>0</th>\n",
       "      <td>100-00-5</td>\n",
       "      <td>DTXSID5020281</td>\n",
       "      <td>1-Chloro-4-nitrobenzene</td>\n",
       "      <td>EPA_DSSTox</td>\n",
       "      <td>[O-][N+](=O)C1C=CC(Cl)=CC=1</td>\n",
       "      <td>?</td>\n",
       "      <td>InChI=1S/C6H4ClNO2/c7-5-1-3-6(4-2-5)8(9)10/h1-4H</td>\n",
       "      <td>CZGCEKJOLUNIFY-UHFFFAOYSA-N</td>\n",
       "      <td>460.0</td>\n",
       "      <td>False</td>\n",
       "      <td>False</td>\n",
       "      <td>2.0</td>\n",
       "      <td>4.0</td>\n",
       "    </tr>\n",
       "    <tr>\n",
       "      <th>1</th>\n",
       "      <td>100-01-6</td>\n",
       "      <td>DTXSID8020961</td>\n",
       "      <td>4-Nitroaniline</td>\n",
       "      <td>EPA_DSSTox</td>\n",
       "      <td>NC1=CC=C(C=C1)[N+]([O-])=O</td>\n",
       "      <td>?</td>\n",
       "      <td>InChI=1S/C6H6N2O2/c7-5-1-3-6(4-2-5)8(9)10/h1-4...</td>\n",
       "      <td>TYMLOMAKGOJONV-UHFFFAOYSA-N</td>\n",
       "      <td>750.0</td>\n",
       "      <td>False</td>\n",
       "      <td>False</td>\n",
       "      <td>3.0</td>\n",
       "      <td>4.0</td>\n",
       "    </tr>\n",
       "    <tr>\n",
       "      <th>2</th>\n",
       "      <td>100-02-7</td>\n",
       "      <td>DTXSID0021834</td>\n",
       "      <td>4-Nitrophenol</td>\n",
       "      <td>EPA_DSSTox</td>\n",
       "      <td>[O-][N+](=O)C1C=CC(O)=CC=1</td>\n",
       "      <td>?</td>\n",
       "      <td>InChI=1S/C6H5NO3/c8-6-3-1-5(2-4-6)7(9)10/h1-4,8H</td>\n",
       "      <td>BTJIUGUIPKRLHP-UHFFFAOYSA-N</td>\n",
       "      <td>170.0</td>\n",
       "      <td>False</td>\n",
       "      <td>False</td>\n",
       "      <td>2.0</td>\n",
       "      <td>3.0</td>\n",
       "    </tr>\n",
       "    <tr>\n",
       "      <th>3</th>\n",
       "      <td>100-14-1</td>\n",
       "      <td>DTXSID4025745</td>\n",
       "      <td>4-Nitrobenzyl chloride</td>\n",
       "      <td>EPA_DSSTox</td>\n",
       "      <td>[O-][N+](=O)C1C=CC(CCl)=CC=1</td>\n",
       "      <td>?</td>\n",
       "      <td>InChI=1S/C7H6ClNO2/c8-5-6-1-3-7(4-2-6)9(10)11/...</td>\n",
       "      <td>KGCNHWXDPDPSBV-UHFFFAOYSA-N</td>\n",
       "      <td>1809.0</td>\n",
       "      <td>False</td>\n",
       "      <td>False</td>\n",
       "      <td>3.0</td>\n",
       "      <td>4.0</td>\n",
       "    </tr>\n",
       "    <tr>\n",
       "      <th>4</th>\n",
       "      <td>100-15-2</td>\n",
       "      <td>DTXSID7025635</td>\n",
       "      <td>N-Methyl-4-nitroaniline</td>\n",
       "      <td>EPA_DSSTox</td>\n",
       "      <td>CNC1C=CC(=CC=1)[N+]([O-])=O</td>\n",
       "      <td>?</td>\n",
       "      <td>InChI=1S/C7H8N2O2/c1-8-6-2-4-7(5-3-6)9(10)11/h...</td>\n",
       "      <td>XIFJZJPMHNUGRA-UHFFFAOYSA-N</td>\n",
       "      <td>NaN</td>\n",
       "      <td>True</td>\n",
       "      <td>False</td>\n",
       "      <td>3.0</td>\n",
       "      <td>5.0</td>\n",
       "    </tr>\n",
       "  </tbody>\n",
       "</table>\n",
       "</div>"
      ],
      "text/plain": [
       "      CASRN         DTXSID            Chemical_Name Structure_Source  \\\n",
       "0  100-00-5  DTXSID5020281  1-Chloro-4-nitrobenzene       EPA_DSSTox   \n",
       "1  100-01-6  DTXSID8020961           4-Nitroaniline       EPA_DSSTox   \n",
       "2  100-02-7  DTXSID0021834            4-Nitrophenol       EPA_DSSTox   \n",
       "3  100-14-1  DTXSID4025745   4-Nitrobenzyl chloride       EPA_DSSTox   \n",
       "4  100-15-2  DTXSID7025635  N-Methyl-4-nitroaniline       EPA_DSSTox   \n",
       "\n",
       "                Canonical_QSARr Salt_Solvent  \\\n",
       "0   [O-][N+](=O)C1C=CC(Cl)=CC=1            ?   \n",
       "1    NC1=CC=C(C=C1)[N+]([O-])=O            ?   \n",
       "2    [O-][N+](=O)C1C=CC(O)=CC=1            ?   \n",
       "3  [O-][N+](=O)C1C=CC(CCl)=CC=1            ?   \n",
       "4   CNC1C=CC(=CC=1)[N+]([O-])=O            ?   \n",
       "\n",
       "                                    InChI_Code_QSARr  \\\n",
       "0   InChI=1S/C6H4ClNO2/c7-5-1-3-6(4-2-5)8(9)10/h1-4H   \n",
       "1  InChI=1S/C6H6N2O2/c7-5-1-3-6(4-2-5)8(9)10/h1-4...   \n",
       "2   InChI=1S/C6H5NO3/c8-6-3-1-5(2-4-6)7(9)10/h1-4,8H   \n",
       "3  InChI=1S/C7H6ClNO2/c8-5-6-1-3-7(4-2-6)9(10)11/...   \n",
       "4  InChI=1S/C7H8N2O2/c1-8-6-2-4-7(5-3-6)9(10)11/h...   \n",
       "\n",
       "               InChI_Key_QSARr  LD50_mgkg EPA_category GHS_category  \\\n",
       "0  CZGCEKJOLUNIFY-UHFFFAOYSA-N      460.0        False        False   \n",
       "1  TYMLOMAKGOJONV-UHFFFAOYSA-N      750.0        False        False   \n",
       "2  BTJIUGUIPKRLHP-UHFFFAOYSA-N      170.0        False        False   \n",
       "3  KGCNHWXDPDPSBV-UHFFFAOYSA-N     1809.0        False        False   \n",
       "4  XIFJZJPMHNUGRA-UHFFFAOYSA-N        NaN         True        False   \n",
       "\n",
       "   very_toxic  nontoxic  \n",
       "0         2.0       4.0  \n",
       "1         3.0       4.0  \n",
       "2         2.0       3.0  \n",
       "3         3.0       4.0  \n",
       "4         3.0       5.0  "
      ]
     },
     "execution_count": 5,
     "metadata": {},
     "output_type": "execute_result"
    }
   ],
   "source": [
    "df.head()"
   ]
  },
  {
   "cell_type": "code",
   "execution_count": 16,
   "metadata": {},
   "outputs": [
    {
     "data": {
      "text/plain": [
       "<matplotlib.axes._subplots.AxesSubplot at 0x7f5060cbd7b8>"
      ]
     },
     "execution_count": 16,
     "metadata": {},
     "output_type": "execute_result"
    },
    {
     "data": {
      "image/png": "[encoded data removed]",
      "text/plain": [
       "<matplotlib.figure.Figure at 0x7f5060d7a3c8>"
      ]
     },
     "metadata": {},
     "output_type": "display_data"
    }
   ],
   "source": [
    "df[['very_toxic', 'nontoxic']].plot.hist(stacked=True)"
   ]
  },
  {
   "cell_type": "code",
   "execution_count": null,
   "metadata": {
    "collapsed": true
   },
   "outputs": [],
   "source": []
  }
 ],
 "metadata": {
  "kernelspec": {
   "display_name": "Python 3",
   "language": "python",
   "name": "python3"
  },
  "language_info": {
   "codemirror_mode": {
    "name": "ipython",
    "version": 3
   },
   "file_extension": ".py",
   "mimetype": "text/x-python",
   "name": "python",
   "nbconvert_exporter": "python",
   "pygments_lexer": "ipython3",
   "version": "3.6.2"
  }
 },
 "nbformat": 4,
 "nbformat_minor": 2
}
