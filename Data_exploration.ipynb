{
 "cells": [
  {
   "cell_type": "markdown",
   "metadata": {},
   "source": [
    "# Predictive Models for Acute Oral Systemic Toxicity\n",
    "\n",
    "The objective of this project is to leverage the combined expertise of the international modeling community to develop predictive models for acute oral toxicity based on regulatory needs submitted by ICCVAM agencies. Models developed for the project will be evaluated, and those meeting defined criteria will be used to generate consensus toxicity predictions of acute oral toxicity endpoints of interest to regulatory agencies. \n",
    "\n",
    "Based on the range of regulatory criteria and decision contexts used by ICCVAM agencies, a total of five different modeling endpoints have been identified. Participants can build models to predict one or more of the following endpoints:\n",
    "\n",
    "+ Very toxic (<50\\ mg/kg vs. all others)\n",
    "+ Nontoxic (>2000\\ mg/kg vs. all others)\n",
    "+ LD50 point estimates\n",
    "+ Hazard categories under the EPA classification system (n=4) \n",
    "+ Hazard categories under the GHS classification system (n=5; Category 5 and Not Classified combined into a single category)\n"
   ]
  },
  {
   "cell_type": "code",
   "execution_count": 1,
   "metadata": {},
   "outputs": [],
   "source": [
    "%matplotlib inline\n",
    "import numpy as np\n",
    "import pandas as pd\n",
    "import matplotlib.pyplot as plt\n",
    "import seaborn as sns\n",
    "sns.set_style('whitegrid')\n",
    "from rdkit.Chem import PandasTools"
   ]
  },
  {
   "cell_type": "markdown",
   "metadata": {},
   "source": [
    "## Data exploration of .sdf"
   ]
  },
  {
   "cell_type": "code",
   "execution_count": 2,
   "metadata": {},
   "outputs": [],
   "source": [
    "sdf_df = PandasTools.LoadSDF('data/trainingset_171127.sdf', molColName=None)"
   ]
  },
  {
   "cell_type": "code",
   "execution_count": 3,
   "metadata": {
    "scrolled": true
   },
   "outputs": [
    {
     "data": {
      "text/html": [
       "<table border=\"1\" class=\"dataframe\">\n",
       "  <thead>\n",
       "    <tr style=\"text-align: right;\">\n",
       "      <th></th>\n",
       "      <th>CASRN</th>\n",
       "      <th>Canonical_QSARr</th>\n",
       "      <th>DTXSID</th>\n",
       "      <th>EPA_category</th>\n",
       "      <th>GHS_category</th>\n",
       "      <th>ID</th>\n",
       "      <th>InChI Key_QSARr</th>\n",
       "      <th>InChI_Code_QSARr</th>\n",
       "      <th>LD50_mgkg</th>\n",
       "      <th>Name</th>\n",
       "      <th>Salt_Solvent</th>\n",
       "      <th>Structure_Source</th>\n",
       "      <th>nontoxic</th>\n",
       "      <th>very_toxic</th>\n",
       "    </tr>\n",
       "  </thead>\n",
       "  <tbody>\n",
       "    <tr>\n",
       "      <th>7128</th>\n",
       "      <td>1075-76-9</td>\n",
       "      <td>N#CCCNC1C=CC=CC=1</td>\n",
       "      <td>DTXSID8051548</td>\n",
       "      <td>3</td>\n",
       "      <td>5</td>\n",
       "      <td>1075-76-9</td>\n",
       "      <td>FENJKTQEFUPECW-UHFFFAOYSA-N</td>\n",
       "      <td>InChI=1S/C9H10N2/c10-7-4-8-11-9-5-2-1-3-6-9/h1-3,5-6,11H,4,8H2</td>\n",
       "      <td>4700.0</td>\n",
       "      <td>3-Anilinopropionitrile</td>\n",
       "      <td>?</td>\n",
       "      <td>EPA_DSSTox</td>\n",
       "      <td>TRUE</td>\n",
       "      <td>FALSE</td>\n",
       "    </tr>\n",
       "  </tbody>\n",
       "</table>"
      ],
      "text/plain": [
       "          CASRN    Canonical_QSARr         DTXSID EPA_category GHS_category         ID              InChI Key_QSARr                                                InChI_Code_QSARr LD50_mgkg                    Name Salt_Solvent Structure_Source nontoxic very_toxic\n",
       "7128  1075-76-9  N#CCCNC1C=CC=CC=1  DTXSID8051548            3            5  1075-76-9  FENJKTQEFUPECW-UHFFFAOYSA-N  InChI=1S/C9H10N2/c10-7-4-8-11-9-5-2-1-3-6-9/h1-3,5-6,11H,4,8H2    4700.0  3-Anilinopropionitrile            ?       EPA_DSSTox     TRUE      FALSE"
      ]
     },
     "execution_count": 3,
     "metadata": {},
     "output_type": "execute_result"
    }
   ],
   "source": [
    "sdf_df[sdf_df.CASRN == '1075-76-9']"
   ]
  },
  {
   "cell_type": "code",
   "execution_count": 4,
   "metadata": {},
   "outputs": [
    {
     "name": "stdout",
     "output_type": "stream",
     "text": [
      "<class 'pandas.core.frame.DataFrame'>\n",
      "Int64Index: 8994 entries, 0 to 8993\n",
      "Data columns (total 14 columns):\n",
      "CASRN               8994 non-null object\n",
      "Canonical_QSARr     8994 non-null object\n",
      "DTXSID              8994 non-null object\n",
      "EPA_category        8994 non-null object\n",
      "GHS_category        8994 non-null object\n",
      "ID                  8994 non-null object\n",
      "InChI Key_QSARr     8994 non-null object\n",
      "InChI_Code_QSARr    8994 non-null object\n",
      "LD50_mgkg           8994 non-null object\n",
      "Name                8994 non-null object\n",
      "Salt_Solvent        8994 non-null object\n",
      "Structure_Source    8994 non-null object\n",
      "nontoxic            8994 non-null object\n",
      "very_toxic          8994 non-null object\n",
      "dtypes: object(14)\n",
      "memory usage: 1.0+ MB\n"
     ]
    }
   ],
   "source": [
    "sdf_df.info()"
   ]
  },
  {
   "cell_type": "markdown",
   "metadata": {},
   "source": [
    "### Data cleaning and assertion of labels"
   ]
  },
  {
   "cell_type": "code",
   "execution_count": 5,
   "metadata": {
    "scrolled": false
   },
   "outputs": [],
   "source": [
    "# objects to numeric\n",
    "sdf_df.LD50_mgkg = pd.to_numeric(sdf_df.LD50_mgkg)\n",
    "sdf_df.GHS_category = pd.to_numeric(sdf_df.GHS_category)\n",
    "sdf_df.EPA_category = pd.to_numeric(sdf_df.EPA_category)\n",
    "\n",
    "# TRUE/FALSE to bolean\n",
    "bool_dict = {'FALSE':False, 'TRUE':True}\n",
    "sdf_df.nontoxic = sdf_df.nontoxic.map(bool_dict)\n",
    "sdf_df.very_toxic = sdf_df.very_toxic.map(bool_dict)"
   ]
  },
  {
   "cell_type": "code",
   "execution_count": 6,
   "metadata": {
    "scrolled": true
   },
   "outputs": [
    {
     "data": {
      "text/html": [
       "<table border=\"1\" class=\"dataframe\">\n",
       "  <thead>\n",
       "    <tr style=\"text-align: right;\">\n",
       "      <th></th>\n",
       "      <th>CASRN</th>\n",
       "      <th>Canonical_QSARr</th>\n",
       "      <th>DTXSID</th>\n",
       "      <th>EPA_category</th>\n",
       "      <th>GHS_category</th>\n",
       "      <th>ID</th>\n",
       "      <th>InChI Key_QSARr</th>\n",
       "      <th>InChI_Code_QSARr</th>\n",
       "      <th>LD50_mgkg</th>\n",
       "      <th>Name</th>\n",
       "      <th>Salt_Solvent</th>\n",
       "      <th>Structure_Source</th>\n",
       "      <th>nontoxic</th>\n",
       "      <th>very_toxic</th>\n",
       "    </tr>\n",
       "  </thead>\n",
       "  <tbody>\n",
       "    <tr>\n",
       "      <th>0</th>\n",
       "      <td>5894-60-0</td>\n",
       "      <td>CCCCCCCCCCCCCCCC[Si](Cl)(Cl)Cl</td>\n",
       "      <td>DTXSID10884196</td>\n",
       "      <td>NaN</td>\n",
       "      <td>NaN</td>\n",
       "      <td>5894-60-0</td>\n",
       "      <td>RYPYGDUZKOPBEL-UHFFFAOYSA-N</td>\n",
       "      <td>InChI=1S/C16H33Cl3Si/c1-2-3-4-5-6-7-8-9-10-11-12-13-14-15-16-20(17,18)19/h2-16H2,1H3</td>\n",
       "      <td>NaN</td>\n",
       "      <td>Silane, trichlorohexadecyl-</td>\n",
       "      <td>?</td>\n",
       "      <td>EPA_DSSTox</td>\n",
       "      <td>False</td>\n",
       "      <td>False</td>\n",
       "    </tr>\n",
       "    <tr>\n",
       "      <th>1</th>\n",
       "      <td>101-20-2</td>\n",
       "      <td>O=C(NC1C=C(Cl)C(Cl)=CC=1)NC1C=CC(Cl)=CC=1</td>\n",
       "      <td>DTXSID4026214</td>\n",
       "      <td>NaN</td>\n",
       "      <td>5.0</td>\n",
       "      <td>101-20-2</td>\n",
       "      <td>ICUTUKXCWQYESQ-UHFFFAOYSA-N</td>\n",
       "      <td>InChI=1S/C13H9Cl3N2O/c14-8-1-3-9(4-2-8)17-13(19)18-10-5-6-11(15)12(16)7-10/h1-7H,(H2,17,18,19)</td>\n",
       "      <td>NaN</td>\n",
       "      <td>Triclocarban</td>\n",
       "      <td>?</td>\n",
       "      <td>EPA_DSSTox</td>\n",
       "      <td>True</td>\n",
       "      <td>False</td>\n",
       "    </tr>\n",
       "  </tbody>\n",
       "</table>"
      ],
      "text/plain": [
       "       CASRN                            Canonical_QSARr          DTXSID  EPA_category  GHS_category         ID              InChI Key_QSARr                                                                                InChI_Code_QSARr  LD50_mgkg                         Name Salt_Solvent Structure_Source nontoxic very_toxic\n",
       "0  5894-60-0             CCCCCCCCCCCCCCCC[Si](Cl)(Cl)Cl  DTXSID10884196           NaN           NaN  5894-60-0  RYPYGDUZKOPBEL-UHFFFAOYSA-N            InChI=1S/C16H33Cl3Si/c1-2-3-4-5-6-7-8-9-10-11-12-13-14-15-16-20(17,18)19/h2-16H2,1H3        NaN  Silane, trichlorohexadecyl-            ?       EPA_DSSTox    False      False\n",
       "1   101-20-2  O=C(NC1C=C(Cl)C(Cl)=CC=1)NC1C=CC(Cl)=CC=1   DTXSID4026214           NaN           5.0   101-20-2  ICUTUKXCWQYESQ-UHFFFAOYSA-N  InChI=1S/C13H9Cl3N2O/c14-8-1-3-9(4-2-8)17-13(19)18-10-5-6-11(15)12(16)7-10/h1-7H,(H2,17,18,19)        NaN                 Triclocarban            ?       EPA_DSSTox     True      False"
      ]
     },
     "execution_count": 6,
     "metadata": {},
     "output_type": "execute_result"
    }
   ],
   "source": [
    "sdf_df.head(2)"
   ]
  },
  {
   "cell_type": "markdown",
   "metadata": {},
   "source": [
    "The molecules with  50 < LD50 < 2000 have `False` in both `very_toxic` and `nontoxic` columns:"
   ]
  },
  {
   "cell_type": "code",
   "execution_count": 17,
   "metadata": {},
   "outputs": [
    {
     "data": {
      "text/plain": [
       "very_toxic    0.0\n",
       "nontoxic      0.0\n",
       "dtype: float64"
      ]
     },
     "execution_count": 17,
     "metadata": {},
     "output_type": "execute_result"
    }
   ],
   "source": [
    "sdf_df[(sdf_df.LD50_mgkg < 2000) & (sdf_df.LD50_mgkg > 50)][['very_toxic', 'nontoxic']].sum(axis=0)"
   ]
  },
  {
   "cell_type": "code",
   "execution_count": 18,
   "metadata": {},
   "outputs": [
    {
     "data": {
      "text/plain": [
       "Text(0.5,1,'very toxic')"
      ]
     },
     "execution_count": 18,
     "metadata": {},
     "output_type": "execute_result"
    },
    {
     "data": {
      "image/png": "[encoded data removed]",
      "text/plain": [
       "<matplotlib.figure.Figure at 0x7f59d9754e10>"
      ]
     },
     "metadata": {},
     "output_type": "display_data"
    }
   ],
   "source": [
    "sdf_df.very_toxic.value_counts().plot.bar()\n",
    "plt.title('very toxic')"
   ]
  },
  {
   "cell_type": "code",
   "execution_count": 112,
   "metadata": {},
   "outputs": [
    {
     "data": {
      "text/plain": [
       "Text(0.5,1,'nontoxic')"
      ]
     },
     "execution_count": 112,
     "metadata": {},
     "output_type": "execute_result"
    },
    {
     "data": {
      "image/png": "[encoded data removed]",
      "text/plain": [
       "<matplotlib.figure.Figure at 0x7f2d673c3dd8>"
      ]
     },
     "metadata": {},
     "output_type": "display_data"
    }
   ],
   "source": [
    "sdf_df.nontoxic.value_counts().plot.bar()\n",
    "plt.title('nontoxic')"
   ]
  },
  {
   "cell_type": "code",
   "execution_count": 57,
   "metadata": {},
   "outputs": [
    {
     "data": {
      "text/plain": [
       "Text(0.5,1,'Nans')"
      ]
     },
     "execution_count": 57,
     "metadata": {},
     "output_type": "execute_result"
    },
    {
     "data": {
      "image/png": "[encoded data removed]",
      "text/plain": [
       "<matplotlib.figure.Figure at 0x7f59d9305780>"
      ]
     },
     "metadata": {},
     "output_type": "display_data"
    }
   ],
   "source": [
    "sdf_df[['very_toxic', 'nontoxic']].isna().sum().plot.bar()\n",
    "plt.title('Nans')"
   ]
  },
  {
   "cell_type": "markdown",
   "metadata": {},
   "source": [
    "There is no values with `True` in both `very_toxic` and `nontoxic` columns:"
   ]
  },
  {
   "cell_type": "code",
   "execution_count": 41,
   "metadata": {},
   "outputs": [
    {
     "data": {
      "text/plain": [
       "0"
      ]
     },
     "execution_count": 41,
     "metadata": {},
     "output_type": "execute_result"
    }
   ],
   "source": [
    "len(sdf_df[sdf_df.nontoxic & sdf_df.very_toxic])"
   ]
  },
  {
   "cell_type": "code",
   "execution_count": 50,
   "metadata": {},
   "outputs": [
    {
     "data": {
      "text/plain": [
       "2"
      ]
     },
     "execution_count": 50,
     "metadata": {},
     "output_type": "execute_result"
    }
   ],
   "source": [
    "len(sdf_df[sdf_df.very_toxic.isna()])"
   ]
  },
  {
   "cell_type": "code",
   "execution_count": 42,
   "metadata": {},
   "outputs": [
    {
     "data": {
      "text/plain": [
       "array([False, True, nan], dtype=object)"
      ]
     },
     "execution_count": 42,
     "metadata": {},
     "output_type": "execute_result"
    }
   ],
   "source": [
    "sdf_df.nontoxic.unique()"
   ]
  },
  {
   "cell_type": "code",
   "execution_count": 43,
   "metadata": {},
   "outputs": [
    {
     "data": {
      "text/plain": [
       "array([False, True, nan], dtype=object)"
      ]
     },
     "execution_count": 43,
     "metadata": {},
     "output_type": "execute_result"
    }
   ],
   "source": [
    "sdf_df.very_toxic.unique()"
   ]
  },
  {
   "cell_type": "markdown",
   "metadata": {},
   "source": [
    "### Filter null to create the new label:"
   ]
  },
  {
   "cell_type": "code",
   "execution_count": 62,
   "metadata": {},
   "outputs": [],
   "source": [
    "sdf_df = sdf_df[pd.notnull(sdf_df.very_toxic)]\n",
    "sdf_df = sdf_df[pd.notnull(sdf_df.nontoxic)]\n",
    "sdf_df.reset_index(inplace=True)"
   ]
  },
  {
   "cell_type": "code",
   "execution_count": 61,
   "metadata": {},
   "outputs": [
    {
     "data": {
      "text/plain": [
       "8979"
      ]
     },
     "execution_count": 61,
     "metadata": {},
     "output_type": "execute_result"
    }
   ],
   "source": []
  },
  {
   "cell_type": "markdown",
   "metadata": {},
   "source": [
    "Now we are going to transform the two labels `very_toxic`and `nontoxic` into a single one like this:\n",
    "\n",
    "| very_toxic| nontoxic   | Label |\n",
    "|-----------|------------|-------|\n",
    "| False     | True       | **0** |\n",
    "| False     | False      | **1** |\n",
    "| True      | False      | **2** |\n"
   ]
  },
  {
   "cell_type": "code",
   "execution_count": 63,
   "metadata": {},
   "outputs": [],
   "source": [
    "def labelizer(v1, v2):\n",
    "    label = []\n",
    "    for i in range(len(v1)):\n",
    "        if (v1[i] == False) & (v2[i] == True):\n",
    "            label.append(0)\n",
    "        elif (v1[i] == False) & (v2[i] == False):\n",
    "            label.append(1)\n",
    "        elif (v1[i] == True) & (v2[i] == False):\n",
    "            label.append(2)\n",
    "    return label"
   ]
  },
  {
   "cell_type": "code",
   "execution_count": 66,
   "metadata": {},
   "outputs": [],
   "source": [
    "sdf_df['labels'] = labelizer(sdf_df.very_toxic, sdf_df.nontoxic)"
   ]
  },
  {
   "cell_type": "code",
   "execution_count": 67,
   "metadata": {
    "scrolled": true
   },
   "outputs": [
    {
     "data": {
      "text/html": [
       "<table border=\"1\" class=\"dataframe\">\n",
       "  <thead>\n",
       "    <tr style=\"text-align: right;\">\n",
       "      <th></th>\n",
       "      <th>index</th>\n",
       "      <th>CASRN</th>\n",
       "      <th>Canonical_QSARr</th>\n",
       "      <th>DTXSID</th>\n",
       "      <th>EPA_category</th>\n",
       "      <th>GHS_category</th>\n",
       "      <th>ID</th>\n",
       "      <th>InChI Key_QSARr</th>\n",
       "      <th>InChI_Code_QSARr</th>\n",
       "      <th>LD50_mgkg</th>\n",
       "      <th>Name</th>\n",
       "      <th>Salt_Solvent</th>\n",
       "      <th>Structure_Source</th>\n",
       "      <th>nontoxic</th>\n",
       "      <th>very_toxic</th>\n",
       "      <th>labels</th>\n",
       "    </tr>\n",
       "  </thead>\n",
       "  <tbody>\n",
       "    <tr>\n",
       "      <th>0</th>\n",
       "      <td>0</td>\n",
       "      <td>5894-60-0</td>\n",
       "      <td>CCCCCCCCCCCCCCCC[Si](Cl)(Cl)Cl</td>\n",
       "      <td>DTXSID10884196</td>\n",
       "      <td>NaN</td>\n",
       "      <td>NaN</td>\n",
       "      <td>5894-60-0</td>\n",
       "      <td>RYPYGDUZKOPBEL-UHFFFAOYSA-N</td>\n",
       "      <td>InChI=1S/C16H33Cl3Si/c1-2-3-4-5-6-7-8-9-10-11-12-13-14-15-16-20(17,18)19/h2-16H2,1H3</td>\n",
       "      <td>NaN</td>\n",
       "      <td>Silane, trichlorohexadecyl-</td>\n",
       "      <td>?</td>\n",
       "      <td>EPA_DSSTox</td>\n",
       "      <td>False</td>\n",
       "      <td>False</td>\n",
       "      <td>1</td>\n",
       "    </tr>\n",
       "    <tr>\n",
       "      <th>1</th>\n",
       "      <td>1</td>\n",
       "      <td>101-20-2</td>\n",
       "      <td>O=C(NC1C=C(Cl)C(Cl)=CC=1)NC1C=CC(Cl)=CC=1</td>\n",
       "      <td>DTXSID4026214</td>\n",
       "      <td>NaN</td>\n",
       "      <td>5.0</td>\n",
       "      <td>101-20-2</td>\n",
       "      <td>ICUTUKXCWQYESQ-UHFFFAOYSA-N</td>\n",
       "      <td>InChI=1S/C13H9Cl3N2O/c14-8-1-3-9(4-2-8)17-13(19)18-10-5-6-11(15)12(16)7-10/h1-7H,(H2,17,18,19)</td>\n",
       "      <td>NaN</td>\n",
       "      <td>Triclocarban</td>\n",
       "      <td>?</td>\n",
       "      <td>EPA_DSSTox</td>\n",
       "      <td>True</td>\n",
       "      <td>False</td>\n",
       "      <td>0</td>\n",
       "    </tr>\n",
       "    <tr>\n",
       "      <th>2</th>\n",
       "      <td>2</td>\n",
       "      <td>112-05-0</td>\n",
       "      <td>CCCCCCCCC(O)=O</td>\n",
       "      <td>DTXSID3021641</td>\n",
       "      <td>NaN</td>\n",
       "      <td>5.0</td>\n",
       "      <td>112-05-0</td>\n",
       "      <td>FBUKVWPVBMHYJY-UHFFFAOYSA-N</td>\n",
       "      <td>InChI=1S/C9H18O2/c1-2-3-4-5-6-7-8-9(10)11/h2-8H2,1H3,(H,10,11)</td>\n",
       "      <td>NaN</td>\n",
       "      <td>Nonanoic acid</td>\n",
       "      <td>?</td>\n",
       "      <td>EPA_DSSTox</td>\n",
       "      <td>True</td>\n",
       "      <td>False</td>\n",
       "      <td>0</td>\n",
       "    </tr>\n",
       "    <tr>\n",
       "      <th>3</th>\n",
       "      <td>3</td>\n",
       "      <td>11077-03-5</td>\n",
       "      <td>CC12CC(C)CC(CCCCCCCC(O)CC3OC(O)(CC(O)C(C)C=CC(O)CCC(O)C(O)C4CC(O)C(O)C(CC(O)C(O)CC5OC(CC(O)C=CC=CCC(O)C(O)C(O)CC=CC(=C)CCC(O)C(O)C(O)C(C)CC6OC(C=CC(O)C(O)CC7CC8CC(O7)C(CCC7OC(CN)CC7O)O8)C(O)C(O)C6O)C(O)C(O)C5O)O4)C(O)C(O)C3O)(O1)OC2CC(C)CCCCCC(O)C(O)C(O)C(O)C(O)C1OC(CC(O)C(O)C(C)=CC(O)CC(C)C(=O)C(O)N=CCC(=O)NCCCO)C(O)C(O)C1O</td>\n",
       "      <td></td>\n",
       "      <td>1.0</td>\n",
       "      <td>1.0</td>\n",
       "      <td>11077-03-5</td>\n",
       "      <td>ZYEKEOWGXUWHNV-UHFFFAOYSA-N</td>\n",
       "      <td>InChI=1S/C129H223N3O54/c1-62(29-33-81(143)108(158)103(153)68(7)47-93-111(161)117(167)110(160)91(180-93)36-35-76(138)82(144)51-73-50-74-53-92(178-73)90(177-74)38-37-89-85(147)52-75(61-130)179-89)23-20-28-78(140)105(155)77(139)26-18-13-16-25-70(135)48-94-112(162)118(168)113(163)97(181-94)55-84(146)83(145)54-95-107(157)87(149)57-96(182-95)106(156)80(142)34-32-69(134)31-30-65(4)88(150)60-129(176)125(174)123(173)115(165)99(184-129)49-71(136)24-15-10-9-11-19-40-128-59-64(3)58-127(8,186-128)100(185-128)44-63(2)22-14-12-17-27-79(141)109(159)116(166)120(170)122(172)124-121(171)119(169)114(164)98(183-124)56-86(148)102(152)66(5)45-72(137)46-67(6)104(154)126(175)132-42-39-101(151)131-41-21-43-133/h13,16,18,20,23,25,30-31,35-36,42,45,63-65,67-100,102-103,105-126,133-150,152-153,155-176H,1,9-12,14-15,17,19,21-22,24,26-29,32-34,37-41,43-44,46-61,130H2,2-8H3,(H,131,151)</td>\n",
       "      <td>NaN</td>\n",
       "      <td></td>\n",
       "      <td>?</td>\n",
       "      <td>Public_CrossChecked</td>\n",
       "      <td>False</td>\n",
       "      <td>True</td>\n",
       "      <td>2</td>\n",
       "    </tr>\n",
       "    <tr>\n",
       "      <th>4</th>\n",
       "      <td>4</td>\n",
       "      <td>3385-03-3</td>\n",
       "      <td>CC1(C)OC2CC3C4CC(F)C5=CC(=O)C=CC5(C)C4C(O)CC3(C)C2(O1)C(=O)CO</td>\n",
       "      <td>DTXSID1045534</td>\n",
       "      <td>1.0</td>\n",
       "      <td>1.0</td>\n",
       "      <td>3385-03-3</td>\n",
       "      <td>XSFJVAJPIHIPKU-UHFFFAOYSA-N</td>\n",
       "      <td>InChI=1S/C24H31FO6/c1-21(2)30-19-9-14-13-8-16(25)15-7-12(27)5-6-22(15,3)20(13)17(28)10-23(14,4)24(19,31-21)18(29)11-26/h5-7,13-14,16-17,19-20,26,28H,8-11H2,1-4H3</td>\n",
       "      <td>NaN</td>\n",
       "      <td>Flunisolide</td>\n",
       "      <td>?</td>\n",
       "      <td>EPA_DSSTox</td>\n",
       "      <td>False</td>\n",
       "      <td>True</td>\n",
       "      <td>2</td>\n",
       "    </tr>\n",
       "  </tbody>\n",
       "</table>"
      ],
      "text/plain": [
       "   index       CASRN                                                                                                                                                                                                                                                                                                                         Canonical_QSARr          DTXSID  EPA_category  GHS_category          ID              InChI Key_QSARr                                                                                                                                                                                                                                                                                                                                                                                                                                                                                                                                                                                                                                                                                                                                                                                                                                                                                    InChI_Code_QSARr  LD50_mgkg                         Name Salt_Solvent     Structure_Source nontoxic very_toxic  labels\n",
       "0      0   5894-60-0                                                                                                                                                                                                                                                                                                          CCCCCCCCCCCCCCCC[Si](Cl)(Cl)Cl  DTXSID10884196           NaN           NaN   5894-60-0  RYPYGDUZKOPBEL-UHFFFAOYSA-N                                                                                                                                                                                                                                                                                                                                                                                                                                                                                                                                                                                                                                                                                                                                                                                                                InChI=1S/C16H33Cl3Si/c1-2-3-4-5-6-7-8-9-10-11-12-13-14-15-16-20(17,18)19/h2-16H2,1H3        NaN  Silane, trichlorohexadecyl-            ?           EPA_DSSTox    False      False       1\n",
       "1      1    101-20-2                                                                                                                                                                                                                                                                                               O=C(NC1C=C(Cl)C(Cl)=CC=1)NC1C=CC(Cl)=CC=1   DTXSID4026214           NaN           5.0    101-20-2  ICUTUKXCWQYESQ-UHFFFAOYSA-N                                                                                                                                                                                                                                                                                                                                                                                                                                                                                                                                                                                                                                                                                                                                                                                                      InChI=1S/C13H9Cl3N2O/c14-8-1-3-9(4-2-8)17-13(19)18-10-5-6-11(15)12(16)7-10/h1-7H,(H2,17,18,19)        NaN                 Triclocarban            ?           EPA_DSSTox     True      False       0\n",
       "2      2    112-05-0                                                                                                                                                                                                                                                                                                                          CCCCCCCCC(O)=O   DTXSID3021641           NaN           5.0    112-05-0  FBUKVWPVBMHYJY-UHFFFAOYSA-N                                                                                                                                                                                                                                                                                                                                                                                                                                                                                                                                                                                                                                                                                                                                                                                                                                      InChI=1S/C9H18O2/c1-2-3-4-5-6-7-8-9(10)11/h2-8H2,1H3,(H,10,11)        NaN                Nonanoic acid            ?           EPA_DSSTox     True      False       0\n",
       "3      3  11077-03-5  CC12CC(C)CC(CCCCCCCC(O)CC3OC(O)(CC(O)C(C)C=CC(O)CCC(O)C(O)C4CC(O)C(O)C(CC(O)C(O)CC5OC(CC(O)C=CC=CCC(O)C(O)C(O)CC=CC(=C)CCC(O)C(O)C(O)C(C)CC6OC(C=CC(O)C(O)CC7CC8CC(O7)C(CCC7OC(CN)CC7O)O8)C(O)C(O)C6O)C(O)C(O)C5O)O4)C(O)C(O)C3O)(O1)OC2CC(C)CCCCCC(O)C(O)C(O)C(O)C(O)C1OC(CC(O)C(O)C(C)=CC(O)CC(C)C(=O)C(O)N=CCC(=O)NCCCO)C(O)C(O)C1O                           1.0           1.0  11077-03-5  ZYEKEOWGXUWHNV-UHFFFAOYSA-N  InChI=1S/C129H223N3O54/c1-62(29-33-81(143)108(158)103(153)68(7)47-93-111(161)117(167)110(160)91(180-93)36-35-76(138)82(144)51-73-50-74-53-92(178-73)90(177-74)38-37-89-85(147)52-75(61-130)179-89)23-20-28-78(140)105(155)77(139)26-18-13-16-25-70(135)48-94-112(162)118(168)113(163)97(181-94)55-84(146)83(145)54-95-107(157)87(149)57-96(182-95)106(156)80(142)34-32-69(134)31-30-65(4)88(150)60-129(176)125(174)123(173)115(165)99(184-129)49-71(136)24-15-10-9-11-19-40-128-59-64(3)58-127(8,186-128)100(185-128)44-63(2)22-14-12-17-27-79(141)109(159)116(166)120(170)122(172)124-121(171)119(169)114(164)98(183-124)56-86(148)102(152)66(5)45-72(137)46-67(6)104(154)126(175)132-42-39-101(151)131-41-21-43-133/h13,16,18,20,23,25,30-31,35-36,42,45,63-65,67-100,102-103,105-126,133-150,152-153,155-176H,1,9-12,14-15,17,19,21-22,24,26-29,32-34,37-41,43-44,46-61,130H2,2-8H3,(H,131,151)        NaN                                         ?  Public_CrossChecked    False       True       2\n",
       "4      4   3385-03-3                                                                                                                                                                                                                                                                           CC1(C)OC2CC3C4CC(F)C5=CC(=O)C=CC5(C)C4C(O)CC3(C)C2(O1)C(=O)CO   DTXSID1045534           1.0           1.0   3385-03-3  XSFJVAJPIHIPKU-UHFFFAOYSA-N                                                                                                                                                                                                                                                                                                                                                                                                                                                                                                                                                                                                                                                                                                                                   InChI=1S/C24H31FO6/c1-21(2)30-19-9-14-13-8-16(25)15-7-12(27)5-6-22(15,3)20(13)17(28)10-23(14,4)24(19,31-21)18(29)11-26/h5-7,13-14,16-17,19-20,26,28H,8-11H2,1-4H3        NaN                  Flunisolide            ?           EPA_DSSTox    False       True       2"
      ]
     },
     "execution_count": 67,
     "metadata": {},
     "output_type": "execute_result"
    }
   ],
   "source": [
    "sdf_df.head()"
   ]
  },
  {
   "cell_type": "markdown",
   "metadata": {},
   "source": [
    "### Balance:"
   ]
  },
  {
   "cell_type": "code",
   "execution_count": 71,
   "metadata": {},
   "outputs": [
    {
     "data": {
      "text/plain": [
       "<matplotlib.axes._subplots.AxesSubplot at 0x7f59d96b20b8>"
      ]
     },
     "execution_count": 71,
     "metadata": {},
     "output_type": "execute_result"
    },
    {
     "data": {
      "image/png": "[encoded data removed]",
      "text/plain": [
       "<matplotlib.figure.Figure at 0x7f59d9438630>"
      ]
     },
     "metadata": {},
     "output_type": "display_data"
    }
   ],
   "source": [
    "sdf_df['labels'].value_counts().plot.bar()"
   ]
  },
  {
   "cell_type": "code",
   "execution_count": 95,
   "metadata": {},
   "outputs": [
    {
     "name": "stdout",
     "output_type": "stream",
     "text": [
      "A 42.86% of the dataset is nontoxic (LD50 > 2000 mg/kg)\n",
      "A 48.89% of the dataset is between toxic and nontoxic (50 mg/kg < LD50 < 2000 mg/kg)\n",
      "A 8.25% of the dataset is very toxic (LD50 < 50 mg/kg)\n"
     ]
    }
   ],
   "source": [
    "percent0 = (sum(sdf_df['labels'] == 0)/len(sdf_df)) * 100\n",
    "percent1 = (sum(sdf_df['labels'] == 1)/len(sdf_df)) * 100\n",
    "percent2 = (sum(sdf_df['labels'] == 2)/len(sdf_df)) * 100\n",
    "\n",
    "print(f'A {round(percent0, 2)}% of the dataset is nontoxic (LD50 > 2000 mg/kg)')\n",
    "print(f'A {round(percent1, 2)}% of the dataset is between toxic and nontoxic (50 mg/kg < LD50 < 2000 mg/kg)')\n",
    "print(f'A {round(percent2, 2)}% of the dataset is very toxic (LD50 < 50 mg/kg)')\n"
   ]
  },
  {
   "cell_type": "code",
   "execution_count": null,
   "metadata": {},
   "outputs": [],
   "source": []
  }
 ],
 "metadata": {
  "kernelspec": {
   "display_name": "Python 3",
   "language": "python",
   "name": "python3"
  },
  "language_info": {
   "codemirror_mode": {
    "name": "ipython",
    "version": 3
   },
   "file_extension": ".py",
   "mimetype": "text/x-python",
   "name": "python",
   "nbconvert_exporter": "python",
   "pygments_lexer": "ipython3",
   "version": "3.6.3"
  }
 },
 "nbformat": 4,
 "nbformat_minor": 2
}
