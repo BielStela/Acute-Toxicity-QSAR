{
 "cells": [
  {
   "cell_type": "markdown",
   "metadata": {},
   "source": [
    "# Predictive Models for Acute Oral Systemic Toxicity\n",
    "\n",
    "The objective of this project is to leverage the combined expertise of the international modeling community to develop predictive models for acute oral toxicity based on regulatory needs submitted by ICCVAM agencies. Models developed for the project will be evaluated, and those meeting defined criteria will be used to generate consensus toxicity predictions of acute oral toxicity endpoints of interest to regulatory agencies. \n",
    "\n",
    "Based on the range of regulatory criteria and decision contexts used by ICCVAM agencies, a total of five different modeling endpoints have been identified. Participants can build models to predict one or more of the following endpoints:\n",
    "\n",
    "+ Very toxic (<50\\ mg/kg vs. all others)\n",
    "+ Nontoxic (>2000\\ mg/kg vs. all others)\n",
    "+ LD50 point estimates\n",
    "+ Hazard categories under the EPA classification system (n=4) \n",
    "+ Hazard categories under the GHS classification system (n=5; Category 5 and Not Classified combined into a single category)\n",
    "\n",
    "## Data Exploration of .csv"
   ]
  },
  {
   "cell_type": "code",
   "execution_count": 43,
   "metadata": {
    "collapsed": true
   },
   "outputs": [],
   "source": [
    "%matplotlib inline\n",
    "import numpy as np\n",
    "import pandas as pd\n",
    "import matplotlib.pyplot as plt\n",
    "import seaborn as sns\n",
    "sns.set_style('whitegrid')\n",
    "from rdkit.Chem import PandasTools"
   ]
  },
  {
   "cell_type": "code",
   "execution_count": 2,
   "metadata": {
    "collapsed": true
   },
   "outputs": [],
   "source": [
    "df = pd.read_csv('data/training_set.csv', sep='\\t')"
   ]
  },
  {
   "cell_type": "code",
   "execution_count": 3,
   "metadata": {
    "scrolled": true
   },
   "outputs": [
    {
     "data": {
      "text/html": [
       "<div>\n",
       "<style scoped>\n",
       "    .dataframe tbody tr th:only-of-type {\n",
       "        vertical-align: middle;\n",
       "    }\n",
       "\n",
       "    .dataframe tbody tr th {\n",
       "        vertical-align: top;\n",
       "    }\n",
       "\n",
       "    .dataframe thead th {\n",
       "        text-align: right;\n",
       "    }\n",
       "</style>\n",
       "<table border=\"1\" class=\"dataframe\">\n",
       "  <thead>\n",
       "    <tr style=\"text-align: right;\">\n",
       "      <th></th>\n",
       "      <th>CASRN</th>\n",
       "      <th>DTXSID</th>\n",
       "      <th>Chemical_Name</th>\n",
       "      <th>Structure_Source</th>\n",
       "      <th>Canonical_QSARr</th>\n",
       "      <th>Salt_Solvent</th>\n",
       "      <th>InChI_Code_QSARr</th>\n",
       "      <th>InChI_Key_QSARr</th>\n",
       "      <th>LD50_mgkg</th>\n",
       "      <th>EPA_category</th>\n",
       "      <th>GHS_category</th>\n",
       "      <th>very_toxic</th>\n",
       "      <th>nontoxic</th>\n",
       "    </tr>\n",
       "  </thead>\n",
       "  <tbody>\n",
       "    <tr>\n",
       "      <th>0</th>\n",
       "      <td>100-00-5</td>\n",
       "      <td>DTXSID5020281</td>\n",
       "      <td>1-Chloro-4-nitrobenzene</td>\n",
       "      <td>EPA_DSSTox</td>\n",
       "      <td>[O-][N+](=O)C1C=CC(Cl)=CC=1</td>\n",
       "      <td>?</td>\n",
       "      <td>InChI=1S/C6H4ClNO2/c7-5-1-3-6(4-2-5)8(9)10/h1-4H</td>\n",
       "      <td>CZGCEKJOLUNIFY-UHFFFAOYSA-N</td>\n",
       "      <td>460.0</td>\n",
       "      <td>False</td>\n",
       "      <td>False</td>\n",
       "      <td>2.0</td>\n",
       "      <td>4.0</td>\n",
       "    </tr>\n",
       "    <tr>\n",
       "      <th>1</th>\n",
       "      <td>100-01-6</td>\n",
       "      <td>DTXSID8020961</td>\n",
       "      <td>4-Nitroaniline</td>\n",
       "      <td>EPA_DSSTox</td>\n",
       "      <td>NC1=CC=C(C=C1)[N+]([O-])=O</td>\n",
       "      <td>?</td>\n",
       "      <td>InChI=1S/C6H6N2O2/c7-5-1-3-6(4-2-5)8(9)10/h1-4H,7H2</td>\n",
       "      <td>TYMLOMAKGOJONV-UHFFFAOYSA-N</td>\n",
       "      <td>750.0</td>\n",
       "      <td>False</td>\n",
       "      <td>False</td>\n",
       "      <td>3.0</td>\n",
       "      <td>4.0</td>\n",
       "    </tr>\n",
       "    <tr>\n",
       "      <th>2</th>\n",
       "      <td>100-02-7</td>\n",
       "      <td>DTXSID0021834</td>\n",
       "      <td>4-Nitrophenol</td>\n",
       "      <td>EPA_DSSTox</td>\n",
       "      <td>[O-][N+](=O)C1C=CC(O)=CC=1</td>\n",
       "      <td>?</td>\n",
       "      <td>InChI=1S/C6H5NO3/c8-6-3-1-5(2-4-6)7(9)10/h1-4,8H</td>\n",
       "      <td>BTJIUGUIPKRLHP-UHFFFAOYSA-N</td>\n",
       "      <td>170.0</td>\n",
       "      <td>False</td>\n",
       "      <td>False</td>\n",
       "      <td>2.0</td>\n",
       "      <td>3.0</td>\n",
       "    </tr>\n",
       "    <tr>\n",
       "      <th>3</th>\n",
       "      <td>100-14-1</td>\n",
       "      <td>DTXSID4025745</td>\n",
       "      <td>4-Nitrobenzyl chloride</td>\n",
       "      <td>EPA_DSSTox</td>\n",
       "      <td>[O-][N+](=O)C1C=CC(CCl)=CC=1</td>\n",
       "      <td>?</td>\n",
       "      <td>InChI=1S/C7H6ClNO2/c8-5-6-1-3-7(4-2-6)9(10)11/h1-4H,5H2</td>\n",
       "      <td>KGCNHWXDPDPSBV-UHFFFAOYSA-N</td>\n",
       "      <td>1809.0</td>\n",
       "      <td>False</td>\n",
       "      <td>False</td>\n",
       "      <td>3.0</td>\n",
       "      <td>4.0</td>\n",
       "    </tr>\n",
       "    <tr>\n",
       "      <th>4</th>\n",
       "      <td>100-15-2</td>\n",
       "      <td>DTXSID7025635</td>\n",
       "      <td>N-Methyl-4-nitroaniline</td>\n",
       "      <td>EPA_DSSTox</td>\n",
       "      <td>CNC1C=CC(=CC=1)[N+]([O-])=O</td>\n",
       "      <td>?</td>\n",
       "      <td>InChI=1S/C7H8N2O2/c1-8-6-2-4-7(5-3-6)9(10)11/h2-5,8H,1H3</td>\n",
       "      <td>XIFJZJPMHNUGRA-UHFFFAOYSA-N</td>\n",
       "      <td>NaN</td>\n",
       "      <td>True</td>\n",
       "      <td>False</td>\n",
       "      <td>3.0</td>\n",
       "      <td>5.0</td>\n",
       "    </tr>\n",
       "  </tbody>\n",
       "</table>\n",
       "</div>"
      ],
      "text/plain": [
       "      CASRN         DTXSID            Chemical_Name Structure_Source               Canonical_QSARr Salt_Solvent                                          InChI_Code_QSARr              InChI_Key_QSARr  LD50_mgkg EPA_category GHS_category  very_toxic  nontoxic\n",
       "0  100-00-5  DTXSID5020281  1-Chloro-4-nitrobenzene       EPA_DSSTox   [O-][N+](=O)C1C=CC(Cl)=CC=1            ?          InChI=1S/C6H4ClNO2/c7-5-1-3-6(4-2-5)8(9)10/h1-4H  CZGCEKJOLUNIFY-UHFFFAOYSA-N      460.0        False        False         2.0       4.0\n",
       "1  100-01-6  DTXSID8020961           4-Nitroaniline       EPA_DSSTox    NC1=CC=C(C=C1)[N+]([O-])=O            ?       InChI=1S/C6H6N2O2/c7-5-1-3-6(4-2-5)8(9)10/h1-4H,7H2  TYMLOMAKGOJONV-UHFFFAOYSA-N      750.0        False        False         3.0       4.0\n",
       "2  100-02-7  DTXSID0021834            4-Nitrophenol       EPA_DSSTox    [O-][N+](=O)C1C=CC(O)=CC=1            ?          InChI=1S/C6H5NO3/c8-6-3-1-5(2-4-6)7(9)10/h1-4,8H  BTJIUGUIPKRLHP-UHFFFAOYSA-N      170.0        False        False         2.0       3.0\n",
       "3  100-14-1  DTXSID4025745   4-Nitrobenzyl chloride       EPA_DSSTox  [O-][N+](=O)C1C=CC(CCl)=CC=1            ?   InChI=1S/C7H6ClNO2/c8-5-6-1-3-7(4-2-6)9(10)11/h1-4H,5H2  KGCNHWXDPDPSBV-UHFFFAOYSA-N     1809.0        False        False         3.0       4.0\n",
       "4  100-15-2  DTXSID7025635  N-Methyl-4-nitroaniline       EPA_DSSTox   CNC1C=CC(=CC=1)[N+]([O-])=O            ?  InChI=1S/C7H8N2O2/c1-8-6-2-4-7(5-3-6)9(10)11/h2-5,8H,1H3  XIFJZJPMHNUGRA-UHFFFAOYSA-N        NaN         True        False         3.0       5.0"
      ]
     },
     "execution_count": 3,
     "metadata": {},
     "output_type": "execute_result"
    }
   ],
   "source": [
    "df.head()"
   ]
  },
  {
   "cell_type": "code",
   "execution_count": 44,
   "metadata": {},
   "outputs": [
    {
     "data": {
      "text/plain": [
       "<matplotlib.axes._subplots.AxesSubplot at 0x7f2d70075208>"
      ]
     },
     "execution_count": 44,
     "metadata": {},
     "output_type": "execute_result"
    },
    {
     "data": {
      "image/png": "[encoded data removed]",
      "text/plain": [
       "<matplotlib.figure.Figure at 0x7f2d6fac4fd0>"
      ]
     },
     "metadata": {},
     "output_type": "display_data"
    }
   ],
   "source": [
    "df[['very_toxic', 'nontoxic']].plot.hist(stacked=True)"
   ]
  },
  {
   "cell_type": "markdown",
   "metadata": {},
   "source": [
    "## Data exploration of .sdf"
   ]
  },
  {
   "cell_type": "code",
   "execution_count": 100,
   "metadata": {
    "collapsed": true
   },
   "outputs": [],
   "source": [
    "sdf_df = PandasTools.LoadSDF('data/trainingset_171127.sdf', molColName=None)"
   ]
  },
  {
   "cell_type": "code",
   "execution_count": 104,
   "metadata": {
    "scrolled": true
   },
   "outputs": [
    {
     "data": {
      "text/html": [
       "<table border=\"1\" class=\"dataframe\">\n",
       "  <thead>\n",
       "    <tr style=\"text-align: right;\">\n",
       "      <th></th>\n",
       "      <th>CASRN</th>\n",
       "      <th>Canonical_QSARr</th>\n",
       "      <th>DTXSID</th>\n",
       "      <th>EPA_category</th>\n",
       "      <th>GHS_category</th>\n",
       "      <th>ID</th>\n",
       "      <th>InChI Key_QSARr</th>\n",
       "      <th>InChI_Code_QSARr</th>\n",
       "      <th>LD50_mgkg</th>\n",
       "      <th>Name</th>\n",
       "      <th>Salt_Solvent</th>\n",
       "      <th>Structure_Source</th>\n",
       "      <th>nontoxic</th>\n",
       "      <th>very_toxic</th>\n",
       "    </tr>\n",
       "  </thead>\n",
       "  <tbody>\n",
       "    <tr>\n",
       "      <th>7128</th>\n",
       "      <td>1075-76-9</td>\n",
       "      <td>N#CCCNC1C=CC=CC=1</td>\n",
       "      <td>DTXSID8051548</td>\n",
       "      <td>3</td>\n",
       "      <td>5</td>\n",
       "      <td>1075-76-9</td>\n",
       "      <td>FENJKTQEFUPECW-UHFFFAOYSA-N</td>\n",
       "      <td>InChI=1S/C9H10N2/c10-7-4-8-11-9-5-2-1-3-6-9/h1-3,5-6,11H,4,8H2</td>\n",
       "      <td>4700.0</td>\n",
       "      <td>3-Anilinopropionitrile</td>\n",
       "      <td>?</td>\n",
       "      <td>EPA_DSSTox</td>\n",
       "      <td>TRUE</td>\n",
       "      <td>FALSE</td>\n",
       "    </tr>\n",
       "  </tbody>\n",
       "</table>"
      ],
      "text/plain": [
       "          CASRN    Canonical_QSARr         DTXSID EPA_category GHS_category         ID              InChI Key_QSARr                                                InChI_Code_QSARr LD50_mgkg                    Name Salt_Solvent Structure_Source nontoxic very_toxic\n",
       "7128  1075-76-9  N#CCCNC1C=CC=CC=1  DTXSID8051548            3            5  1075-76-9  FENJKTQEFUPECW-UHFFFAOYSA-N  InChI=1S/C9H10N2/c10-7-4-8-11-9-5-2-1-3-6-9/h1-3,5-6,11H,4,8H2    4700.0  3-Anilinopropionitrile            ?       EPA_DSSTox     TRUE      FALSE"
      ]
     },
     "execution_count": 104,
     "metadata": {},
     "output_type": "execute_result"
    }
   ],
   "source": [
    "sdf_df[sdf_df.CASRN == '1075-76-9']"
   ]
  },
  {
   "cell_type": "code",
   "execution_count": 105,
   "metadata": {},
   "outputs": [
    {
     "name": "stdout",
     "output_type": "stream",
     "text": [
      "<class 'pandas.core.frame.DataFrame'>\n",
      "Int64Index: 8994 entries, 0 to 8993\n",
      "Data columns (total 14 columns):\n",
      "CASRN               8994 non-null object\n",
      "Canonical_QSARr     8994 non-null object\n",
      "DTXSID              8994 non-null object\n",
      "EPA_category        8994 non-null object\n",
      "GHS_category        8994 non-null object\n",
      "ID                  8994 non-null object\n",
      "InChI Key_QSARr     8994 non-null object\n",
      "InChI_Code_QSARr    8994 non-null object\n",
      "LD50_mgkg           8994 non-null object\n",
      "Name                8994 non-null object\n",
      "Salt_Solvent        8994 non-null object\n",
      "Structure_Source    8994 non-null object\n",
      "nontoxic            8994 non-null object\n",
      "very_toxic          8994 non-null object\n",
      "dtypes: object(14)\n",
      "memory usage: 1.3+ MB\n"
     ]
    }
   ],
   "source": [
    "sdf_df.info()"
   ]
  },
  {
   "cell_type": "markdown",
   "metadata": {},
   "source": [
    "### Data cleaning"
   ]
  },
  {
   "cell_type": "code",
   "execution_count": 106,
   "metadata": {
    "scrolled": false
   },
   "outputs": [],
   "source": [
    "# objects to numeric\n",
    "sdf_df.LD50_mgkg = pd.to_numeric(sdf_df.LD50_mgkg)\n",
    "sdf_df.GHS_category = pd.to_numeric(sdf_df.GHS_category)\n",
    "sdf_df.EPA_category = pd.to_numeric(sdf_df.EPA_category)\n",
    "\n",
    "# TRUE/FALSE to bolean\n",
    "bool_dict = {'FALSE':False, 'TRUE':True}\n",
    "sdf_df.nontoxic = sdf_df.nontoxic.map(bool_dict)\n",
    "sdf_df.very_toxic = sdf_df.very_toxic.map(bool_dict)"
   ]
  },
  {
   "cell_type": "code",
   "execution_count": 110,
   "metadata": {},
   "outputs": [
    {
     "data": {
      "text/html": [
       "<table border=\"1\" class=\"dataframe\">\n",
       "  <thead>\n",
       "    <tr style=\"text-align: right;\">\n",
       "      <th></th>\n",
       "      <th>CASRN</th>\n",
       "      <th>Canonical_QSARr</th>\n",
       "      <th>DTXSID</th>\n",
       "      <th>EPA_category</th>\n",
       "      <th>GHS_category</th>\n",
       "      <th>ID</th>\n",
       "      <th>InChI Key_QSARr</th>\n",
       "      <th>InChI_Code_QSARr</th>\n",
       "      <th>LD50_mgkg</th>\n",
       "      <th>Name</th>\n",
       "      <th>Salt_Solvent</th>\n",
       "      <th>Structure_Source</th>\n",
       "      <th>nontoxic</th>\n",
       "      <th>very_toxic</th>\n",
       "    </tr>\n",
       "  </thead>\n",
       "  <tbody>\n",
       "    <tr>\n",
       "      <th>0</th>\n",
       "      <td>5894-60-0</td>\n",
       "      <td>CCCCCCCCCCCCCCCC[Si](Cl)(Cl)Cl</td>\n",
       "      <td>DTXSID10884196</td>\n",
       "      <td>NaN</td>\n",
       "      <td>NaN</td>\n",
       "      <td>5894-60-0</td>\n",
       "      <td>RYPYGDUZKOPBEL-UHFFFAOYSA-N</td>\n",
       "      <td>InChI=1S/C16H33Cl3Si/c1-2-3-4-5-6-7-8-9-10-11-12-13-14-15-16-20(17,18)19/h2-16H2,1H3</td>\n",
       "      <td>NaN</td>\n",
       "      <td>Silane, trichlorohexadecyl-</td>\n",
       "      <td>?</td>\n",
       "      <td>EPA_DSSTox</td>\n",
       "      <td>False</td>\n",
       "      <td>False</td>\n",
       "    </tr>\n",
       "    <tr>\n",
       "      <th>1</th>\n",
       "      <td>101-20-2</td>\n",
       "      <td>O=C(NC1C=C(Cl)C(Cl)=CC=1)NC1C=CC(Cl)=CC=1</td>\n",
       "      <td>DTXSID4026214</td>\n",
       "      <td>NaN</td>\n",
       "      <td>5.0</td>\n",
       "      <td>101-20-2</td>\n",
       "      <td>ICUTUKXCWQYESQ-UHFFFAOYSA-N</td>\n",
       "      <td>InChI=1S/C13H9Cl3N2O/c14-8-1-3-9(4-2-8)17-13(19)18-10-5-6-11(15)12(16)7-10/h1-7H,(H2,17,18,19)</td>\n",
       "      <td>NaN</td>\n",
       "      <td>Triclocarban</td>\n",
       "      <td>?</td>\n",
       "      <td>EPA_DSSTox</td>\n",
       "      <td>True</td>\n",
       "      <td>False</td>\n",
       "    </tr>\n",
       "  </tbody>\n",
       "</table>"
      ],
      "text/plain": [
       "       CASRN                            Canonical_QSARr          DTXSID  EPA_category  GHS_category         ID              InChI Key_QSARr                                                                                InChI_Code_QSARr  LD50_mgkg                         Name Salt_Solvent Structure_Source nontoxic very_toxic\n",
       "0  5894-60-0             CCCCCCCCCCCCCCCC[Si](Cl)(Cl)Cl  DTXSID10884196           NaN           NaN  5894-60-0  RYPYGDUZKOPBEL-UHFFFAOYSA-N            InChI=1S/C16H33Cl3Si/c1-2-3-4-5-6-7-8-9-10-11-12-13-14-15-16-20(17,18)19/h2-16H2,1H3        NaN  Silane, trichlorohexadecyl-            ?       EPA_DSSTox    False      False\n",
       "1   101-20-2  O=C(NC1C=C(Cl)C(Cl)=CC=1)NC1C=CC(Cl)=CC=1   DTXSID4026214           NaN           5.0   101-20-2  ICUTUKXCWQYESQ-UHFFFAOYSA-N  InChI=1S/C13H9Cl3N2O/c14-8-1-3-9(4-2-8)17-13(19)18-10-5-6-11(15)12(16)7-10/h1-7H,(H2,17,18,19)        NaN                 Triclocarban            ?       EPA_DSSTox     True      False"
      ]
     },
     "execution_count": 110,
     "metadata": {},
     "output_type": "execute_result"
    }
   ],
   "source": [
    "sdf_df.head(2)"
   ]
  },
  {
   "cell_type": "code",
   "execution_count": 111,
   "metadata": {},
   "outputs": [
    {
     "data": {
      "text/plain": [
       "Text(0.5,1,'very toxic')"
      ]
     },
     "execution_count": 111,
     "metadata": {},
     "output_type": "execute_result"
    },
    {
     "data": {
      "image/png": "[encoded data removed]",
      "text/plain": [
       "<matplotlib.figure.Figure at 0x7f2d673e1fd0>"
      ]
     },
     "metadata": {},
     "output_type": "display_data"
    }
   ],
   "source": [
    "sdf_df.very_toxic.value_counts().plot.bar()\n",
    "plt.title('very toxic')"
   ]
  },
  {
   "cell_type": "code",
   "execution_count": 112,
   "metadata": {},
   "outputs": [
    {
     "data": {
      "text/plain": [
       "Text(0.5,1,'nontoxic')"
      ]
     },
     "execution_count": 112,
     "metadata": {},
     "output_type": "execute_result"
    },
    {
     "data": {
      "image/png": "[encoded data removed]",
      "text/plain": [
       "<matplotlib.figure.Figure at 0x7f2d673c3dd8>"
      ]
     },
     "metadata": {},
     "output_type": "display_data"
    }
   ],
   "source": [
    "sdf_df.nontoxic.value_counts().plot.bar()\n",
    "plt.title('nontoxic')"
   ]
  },
  {
   "cell_type": "code",
   "execution_count": 113,
   "metadata": {},
   "outputs": [
    {
     "data": {
      "text/plain": [
       "<matplotlib.axes._subplots.AxesSubplot at 0x7f2d6c504ac8>"
      ]
     },
     "execution_count": 113,
     "metadata": {},
     "output_type": "execute_result"
    },
    {
     "data": {
      "image/png": "[encoded data removed]",
      "text/plain": [
       "<matplotlib.figure.Figure at 0x7f2d6c4026a0>"
      ]
     },
     "metadata": {},
     "output_type": "display_data"
    }
   ],
   "source": [
    "sdf_df.LD50_mgkg[sdf_df.LD50_mgkg < 2000].hist()"
   ]
  },
  {
   "cell_type": "code",
   "execution_count": 116,
   "metadata": {},
   "outputs": [
    {
     "data": {
      "text/plain": [
       "0"
      ]
     },
     "execution_count": 116,
     "metadata": {},
     "output_type": "execute_result"
    }
   ],
   "source": [
    "len(sdf_df[sdf_df.nontoxic & sdf_df.very_toxic])"
   ]
  },
  {
   "cell_type": "code",
   "execution_count": 117,
   "metadata": {},
   "outputs": [
    {
     "data": {
      "image/png": "[encoded data removed]",
      "text/plain": [
       "<matplotlib.figure.Figure at 0x7f2d67637e10>"
      ]
     },
     "metadata": {},
     "output_type": "display_data"
    }
   ],
   "source": [
    "plt.scatter(sdf_df.very_toxic, sdf_df.LD50_mgkg, alpha = 0.2)\n",
    "# plt.xticks([1,0])\n",
    "plt.show()"
   ]
  },
  {
   "cell_type": "code",
   "execution_count": 119,
   "metadata": {},
   "outputs": [
    {
     "data": {
      "image/png": "[encoded data removed]",
      "text/plain": [
       "<matplotlib.figure.Figure at 0x7f2d6c094320>"
      ]
     },
     "metadata": {},
     "output_type": "display_data"
    }
   ],
   "source": [
    "plt.scatter(sdf_df.nontoxic, sdf_df.LD50_mgkg, alpha = 0.2)\n",
    "plt.xticks([1,0])\n",
    "plt.show()"
   ]
  },
  {
   "cell_type": "code",
   "execution_count": 121,
   "metadata": {},
   "outputs": [
    {
     "data": {
      "text/plain": [
       "True"
      ]
     },
     "execution_count": 121,
     "metadata": {},
     "output_type": "execute_result"
    }
   ],
   "source": [
    "all(sdf_df[sdf_df.LD50_mgkg < 50]['very_toxic'])"
   ]
  }
 ],
 "metadata": {
  "kernelspec": {
   "display_name": "Python 3",
   "language": "python",
   "name": "python3"
  },
  "language_info": {
   "codemirror_mode": {
    "name": "ipython",
    "version": 3
   },
   "file_extension": ".py",
   "mimetype": "text/x-python",
   "name": "python",
   "nbconvert_exporter": "python",
   "pygments_lexer": "ipython3",
   "version": "3.6.3"
  }
 },
 "nbformat": 4,
 "nbformat_minor": 2
}
